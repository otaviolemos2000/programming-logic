{
  "cells": [
    {
      "cell_type": "markdown",
      "metadata": {
        "id": "view-in-github",
        "colab_type": "text"
      },
      "source": [
        "<a href=\"https://colab.research.google.com/github/otaviolemos2000/programming-logic/blob/main/cursopyton01.ipynb\" target=\"_parent\"><img src=\"https://colab.research.google.com/assets/colab-badge.svg\" alt=\"Open In Colab\"/></a>"
      ]
    },
    {
      "cell_type": "code",
      "source": [
        "senha=input('digite a senha: ')\n",
        "if senha=='alfa':\n",
        "  print('Abrir porta')\n",
        "else:\n",
        "  print(\"senha incorreta\")\n",
        "  print (\"digite a senha correta\")\n",
        "  print(\"fim\")"
      ],
      "metadata": {
        "colab": {
          "base_uri": "https://localhost:8080/"
        },
        "id": "THmjRcKcA0rX",
        "outputId": "9997165c-af00-4ed9-f768-b6b7660d73a7"
      },
      "execution_count": 13,
      "outputs": [
        {
          "output_type": "stream",
          "name": "stdout",
          "text": [
            "digite a senha: hist\n",
            "senha incorreta\n",
            "digite a senha correta\n",
            "fim\n"
          ]
        }
      ]
    },
    {
      "cell_type": "code",
      "source": [
        "num=int(input(\"digite um numero: \"))\n",
        "if num == 0:\n",
        " print (\"numero nulo\")\n",
        "elif num > 0:\n",
        "  print (\"numero positivo\")\n",
        "else:\n",
        "  print (\"numero negativo\")\n",
        "\n",
        "\n",
        "\n"
      ],
      "metadata": {
        "id": "_qpp9mwJGwzp"
      },
      "execution_count": null,
      "outputs": []
    },
    {
      "cell_type": "code",
      "source": [
        "opera1= float (input(\"digite o primeiro numero :\" ))\n",
        "opera2= float (input(\"digite o segundo numero :\" ))\n",
        "operador=str (input(\"digite uma operação:\"))\n",
        "if operador == \"+\":\n",
        "  print (\"a soma é: \",opera1+opera2)\n",
        "elif operador == \"-\":\n",
        "   print (\"a subtração é: \",opera1-opera2)\n",
        "elif operador == \"*\":\n",
        "   print (\"a multiplicação é: \",opera1*opera2)\n",
        "elif operador == \"/\":\n",
        "   print (\"a divisão é: \",opera1/opera2)\n",
        "else :\n",
        "  print (\"digitou incorreto\")\n",
        "\n",
        "\n",
        "\n"
      ],
      "metadata": {
        "colab": {
          "base_uri": "https://localhost:8080/"
        },
        "id": "4TM6tKcOKj4R",
        "outputId": "d3f689b6-cdaf-4ac6-d0b9-63a621a5223f"
      },
      "execution_count": 40,
      "outputs": [
        {
          "output_type": "stream",
          "name": "stdout",
          "text": [
            "digite o primeiro numero :80\n",
            "digite o segundo numero :4\n",
            "digite uma operação:/\n",
            "a divisão é:  20.0\n"
          ]
        }
      ]
    },
    {
      "cell_type": "code",
      "source": [],
      "metadata": {
        "id": "2K1-IX9J-PsG"
      },
      "execution_count": 31,
      "outputs": []
    }
  ],
  "metadata": {
    "colab": {
      "provenance": [],
      "include_colab_link": true
    },
    "kernelspec": {
      "display_name": "Python 3",
      "name": "python3"
    },
    "language_info": {
      "name": "python"
    }
  },
  "nbformat": 4,
  "nbformat_minor": 0
}