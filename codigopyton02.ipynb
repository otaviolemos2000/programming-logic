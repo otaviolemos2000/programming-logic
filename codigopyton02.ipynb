{
  "cells": [
    {
      "cell_type": "markdown",
      "metadata": {
        "id": "view-in-github",
        "colab_type": "text"
      },
      "source": [
        "<a href=\"https://colab.research.google.com/github/otaviolemos2000/programming-logic/blob/main/codigopyton02.ipynb\" target=\"_parent\"><img src=\"https://colab.research.google.com/assets/colab-badge.svg\" alt=\"Open In Colab\"/></a>"
      ]
    },
    {
      "cell_type": "code",
      "source": [
        "senha=input('digite a senha: ')\n",
        "if senha=='alfa':\n",
        "  print('Abrir porta')\n",
        "else:\n",
        "  print(\"senha incorreta\")\n",
        "  print (\"digite a senha correta\")\n",
        "  print(\"fim\")"
      ],
      "metadata": {
        "id": "THmjRcKcA0rX"
      },
      "execution_count": null,
      "outputs": []
    },
    {
      "cell_type": "code",
      "source": [
        "num=int(input(\"digite um numero: \"))\n",
        "if num == 0:\n",
        " print (\"numero nulo\")\n",
        "elif num > 0:\n",
        "  print (\"numero positivo\")\n",
        "else:\n",
        "  print (\"numero negativo\")\n",
        "\n",
        "\n",
        "\n"
      ],
      "metadata": {
        "id": "_qpp9mwJGwzp"
      },
      "execution_count": null,
      "outputs": []
    },
    {
      "cell_type": "code",
      "source": [
        "opera1= float (input(\"digite o primeiro numero :\" ))\n",
        "opera2= float (input(\"digite o segundo numero :\" ))\n",
        "operador=str (input(\"digite uma operação:\"))\n",
        "if operador == \"+\":\n",
        "  print (\"a soma é: \",opera1+opera2)\n",
        "elif operador == \"-\":\n",
        "   print (\"a subtração é: \",opera1-opera2)\n",
        "elif operador == \"*\":\n",
        "   print (\"a multiplicação é: \",opera1*opera2)\n",
        "elif operador == \"/\":\n",
        "   print (\"a divisão é: \",opera1/opera2)\n",
        "else :\n",
        "  print (\"digitou incorreto\")\n",
        "\n",
        "\n",
        "\n"
      ],
      "metadata": {
        "id": "4TM6tKcOKj4R"
      },
      "execution_count": null,
      "outputs": []
    },
    {
      "cell_type": "code",
      "source": [
        "num = int (input(\"digite um numero: \"))\n",
        "if num % 2 == 0:\n",
        "  print (num,\" é par\")\n",
        "else:\n",
        "  print(num,\" é impar\")\n"
      ],
      "metadata": {
        "id": "fiM56D-0Zefw"
      },
      "execution_count": null,
      "outputs": []
    },
    {
      "cell_type": "code",
      "source": [
        "cont=1\n",
        "while cont<=10:\n",
        "  print (cont)\n",
        "  cont+=1\n"
      ],
      "metadata": {
        "id": "-0JiaJR-hb93"
      },
      "execution_count": null,
      "outputs": []
    }
  ],
  "metadata": {
    "colab": {
      "provenance": [],
      "include_colab_link": true
    },
    "kernelspec": {
      "display_name": "Python 3",
      "name": "python3"
    },
    "language_info": {
      "name": "python"
    }
  },
  "nbformat": 4,
  "nbformat_minor": 0
}